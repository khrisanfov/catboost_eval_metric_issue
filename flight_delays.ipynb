{
 "cells": [
  {
   "cell_type": "code",
   "execution_count": 1,
   "metadata": {
    "collapsed": true,
    "pycharm": {
     "is_executing": false
    }
   },
   "outputs": [],
   "source": [
    "import pandas as pd\n",
    "import catboost\n",
    "from catboost import *\n",
    "from catboost import datasets"
   ]
  },
  {
   "cell_type": "code",
   "execution_count": 2,
   "outputs": [],
   "source": [
    "train = pd.read_csv('flight_delays_train.csv')\n",
    "validation = pd.read_csv('flight_delays_valid.csv')"
   ],
   "metadata": {
    "collapsed": false,
    "pycharm": {
     "name": "#%%\n",
     "is_executing": false
    }
   }
  },
  {
   "cell_type": "code",
   "execution_count": 3,
   "outputs": [],
   "source": [
    "X_train = train.drop('target', axis=1)\n",
    "X_validation = validation.drop('target', axis=1)\n",
    "y_train = train['target']\n",
    "y_validation = validation['target']"
   ],
   "metadata": {
    "collapsed": false,
    "pycharm": {
     "name": "#%%\n",
     "is_executing": false
    }
   }
  },
  {
   "cell_type": "code",
   "execution_count": 4,
   "outputs": [],
   "source": [
    "cat_features = [0, 1, 3, 4, 5, 8, 9, 10]"
   ],
   "metadata": {
    "collapsed": false,
    "pycharm": {
     "name": "#%%\n",
     "is_executing": false
    }
   }
  },
  {
   "cell_type": "code",
   "execution_count": 5,
   "outputs": [],
   "source": [
    "train_pool = Pool(data=X_train, label=y_train, cat_features=cat_features)\n",
    "valid_pool = Pool(data=X_validation, label=y_validation, cat_features=cat_features)"
   ],
   "metadata": {
    "collapsed": false,
    "pycharm": {
     "name": "#%%\n",
     "is_executing": false
    }
   }
  },
  {
   "cell_type": "code",
   "execution_count": 6,
   "outputs": [
    {
     "name": "stdout",
     "text": [
      "0:\tlearn: 0.6758829\ttest: 0.6787720\tbest: 0.6787720 (0)\ttotal: 17.1ms\tremaining: 2m 51s\n",
      "1000:\tlearn: 0.3938404\ttest: 0.3991677\tbest: 0.3991677 (1000)\ttotal: 15.4s\tremaining: 2m 18s\n",
      "2000:\tlearn: 0.3755514\ttest: 0.3918347\tbest: 0.3918314 (1989)\ttotal: 30.4s\tremaining: 2m 1s\n",
      "3000:\tlearn: 0.3653346\ttest: 0.3889134\tbest: 0.3889134 (3000)\ttotal: 45.5s\tremaining: 1m 46s\n",
      "4000:\tlearn: 0.3569312\ttest: 0.3856805\tbest: 0.3856805 (4000)\ttotal: 1m\tremaining: 1m 30s\n",
      "5000:\tlearn: 0.3509050\ttest: 0.3842066\tbest: 0.3842043 (4998)\ttotal: 1m 15s\tremaining: 1m 15s\n",
      "6000:\tlearn: 0.3448954\ttest: 0.3826773\tbest: 0.3826589 (5949)\ttotal: 1m 30s\tremaining: 1m\n",
      "7000:\tlearn: 0.3399561\ttest: 0.3817894\tbest: 0.3817894 (7000)\ttotal: 1m 46s\tremaining: 45.7s\n",
      "8000:\tlearn: 0.3349211\ttest: 0.3807782\tbest: 0.3807349 (7823)\ttotal: 2m 3s\tremaining: 30.7s\nbestTest = 0.3807348828\nbestIteration = 7823\n"
     ],
     "output_type": "stream"
    },
    {
     "data": {
      "text/plain": "<catboost.core.CatBoostClassifier at 0x7fbcdad0c898>"
     },
     "metadata": {},
     "output_type": "execute_result",
     "execution_count": 6
    }
   ],
   "source": [
    "model = CatBoostClassifier(random_seed=1234,\n",
    "                           iterations=10000,\n",
    "                           learning_rate=0.03, \n",
    "                           depth=4, \n",
    "                           l2_leaf_reg=5,  \n",
    "                           loss_function='Logloss',\n",
    "                           od_type='IncToDec',\n",
    "                           od_pval=0.2,\n",
    "                           use_best_model=False,\n",
    "                           task_type='GPU',\n",
    "                           bagging_temperature=0,\n",
    "                           random_strength=3,\n",
    "                           one_hot_max_size=0,\n",
    "                           max_ctr_complexity=4,\n",
    "                           border_count=255,\n",
    "                           feature_border_type='GreedyLogSum',\n",
    "                           leaf_estimation_method='Gradient',\n",
    "                           devices='0',\n",
    "                           gpu_ram_part=0.99)\n",
    "model.fit(train_pool, eval_set=valid_pool, verbose=1000, plot=False)\n"
   ],
   "metadata": {
    "collapsed": false,
    "pycharm": {
     "name": "#%%\n",
     "is_executing": false
    }
   }
  },
  {
   "cell_type": "code",
   "execution_count": 7,
   "outputs": [
    {
     "data": {
      "text/plain": "8006"
     },
     "metadata": {},
     "output_type": "execute_result",
     "execution_count": 7
    }
   ],
   "source": [
    "model.tree_count_"
   ],
   "metadata": {
    "collapsed": false,
    "pycharm": {
     "name": "#%%\n",
     "is_executing": false
    }
   }
  },
  {
   "cell_type": "code",
   "execution_count": 8,
   "outputs": [
    {
     "data": {
      "text/plain": "(0.33490703125, 0.3807861328125)"
     },
     "metadata": {},
     "output_type": "execute_result",
     "execution_count": 8
    }
   ],
   "source": [
    "model.get_evals_result()['learn']['Logloss'][-1], \\\n",
    "model.get_evals_result()['validation']['Logloss'][-1]"
   ],
   "metadata": {
    "collapsed": false,
    "pycharm": {
     "name": "#%%\n",
     "is_executing": false
    }
   }
  },
  {
   "cell_type": "code",
   "execution_count": 9,
   "outputs": [
    {
     "data": {
      "text/plain": "(0.34002411199275573, 0.4240669927488715)"
     },
     "metadata": {},
     "output_type": "execute_result",
     "execution_count": 9
    }
   ],
   "source": [
    "model.eval_metrics(train_pool, metrics=['Logloss'])['Logloss'][-1], \\\n",
    "model.eval_metrics(valid_pool, metrics=['Logloss'])['Logloss'][-1],"
   ],
   "metadata": {
    "collapsed": false,
    "pycharm": {
     "name": "#%%\n",
     "is_executing": false
    }
   }
  },
  {
   "cell_type": "code",
   "execution_count": 10,
   "outputs": [
    {
     "data": {
      "text/plain": "(0.33876961096881647, 0.42406699274887194)"
     },
     "metadata": {},
     "output_type": "execute_result",
     "execution_count": 10
    }
   ],
   "source": [
    "from sklearn.metrics import log_loss\n",
    "log_loss(train_pool.get_label(), model.predict_proba(train_pool)[:, 1]), \\\n",
    "log_loss(valid_pool.get_label(), model.predict_proba(valid_pool)[:, 1])"
   ],
   "metadata": {
    "collapsed": false,
    "pycharm": {
     "name": "#%%\n",
     "is_executing": false
    }
   }
  }
 ],
 "metadata": {
  "language_info": {
   "codemirror_mode": {
    "name": "ipython",
    "version": 2
   },
   "file_extension": ".py",
   "mimetype": "text/x-python",
   "name": "python",
   "nbconvert_exporter": "python",
   "pygments_lexer": "ipython2",
   "version": "2.7.6"
  },
  "kernelspec": {
   "name": "python3",
   "language": "python",
   "display_name": "Python 3"
  },
  "pycharm": {
   "stem_cell": {
    "cell_type": "raw",
    "source": [],
    "metadata": {
     "collapsed": false
    }
   }
  }
 },
 "nbformat": 4,
 "nbformat_minor": 0
}